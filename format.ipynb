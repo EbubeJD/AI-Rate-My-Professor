{
 "cells": [
  {
   "cell_type": "code",
   "execution_count": 2,
   "metadata": {},
   "outputs": [],
   "source": [
    "import csv\n",
    "import json\n",
    "from collections import defaultdict"
   ]
  },
  {
   "cell_type": "code",
   "execution_count": 3,
   "metadata": {},
   "outputs": [
    {
     "data": {
      "text/plain": [
       "['Professor_ID',\n",
       " 'Professor_Name',\n",
       " 'University',\n",
       " 'Department',\n",
       " 'Quality',\n",
       " 'Difficulty',\n",
       " 'Class_Name',\n",
       " 'Comment',\n",
       " 'Thumbs_Up',\n",
       " 'Thumbs_Down',\n",
       " 'Review_Date']"
      ]
     },
     "execution_count": 3,
     "metadata": {},
     "output_type": "execute_result"
    }
   ],
   "source": [
    "filename = 'Rate My Professors Reviews.csv'\n",
    "data = open(filename, 'r')\n",
    "csvreader = csv.reader(data)\n",
    "next(csvreader)"
   ]
  },
  {
   "cell_type": "code",
   "execution_count": 4,
   "metadata": {},
   "outputs": [],
   "source": [
    "professors = defaultdict(lambda: {\"name\": \"\", \"id\": 0, \"department\": \"\", \"overallQuality\": 0, \"difficulty\": 0, \"reviews\": []})"
   ]
  },
  {
   "cell_type": "code",
   "execution_count": 5,
   "metadata": {},
   "outputs": [],
   "source": [
    "with open(filename, 'r') as csvfile:\n",
    "    reader = csv.DictReader(csvfile)\n",
    "    for row in reader:\n",
    "        professor_id = int(row['Professor_ID'])\n",
    "        professor_name = row['Professor_Name']\n",
    "        department = row['Department']\n",
    "        quality = float(row['Quality'])\n",
    "        difficulty = int(row['Difficulty'])\n",
    "        class_name = row['Class_Name']\n",
    "        comment = row['Comment']\n",
    "        \n",
    "        if professors[professor_id]['id'] == 0:\n",
    "            professors[professor_id]['name'] = professor_name\n",
    "            professors[professor_id]['id'] = professor_id\n",
    "            professors[professor_id]['department'] = department\n",
    "        \n",
    "        professors[professor_id]['reviews'].append({\n",
    "            \"quality\": quality,\n",
    "            \"difficulty\": difficulty,\n",
    "            \"class\": class_name,\n",
    "            \"review\": comment\n",
    "        })"
   ]
  },
  {
   "cell_type": "code",
   "execution_count": 6,
   "metadata": {},
   "outputs": [],
   "source": [
    "for professor_id, data in professors.items():\n",
    "    total_reviews = len(data['reviews'])\n",
    "    if total_reviews > 0:\n",
    "        overall_quality = sum([review['quality'] for review in data['reviews']]) / total_reviews\n",
    "        overall_difficulty = sum([review['difficulty'] for review in data['reviews']]) / total_reviews\n",
    "        data['overallQuality'] = round(overall_quality)\n",
    "        data['difficulty'] = round(overall_difficulty)\n",
    "\n",
    "\n"
   ]
  },
  {
   "cell_type": "code",
   "execution_count": 7,
   "metadata": {},
   "outputs": [],
   "source": [
    "output = {\n",
    "    \"professors\": list(professors.values())\n",
    "}"
   ]
  },
  {
   "cell_type": "code",
   "execution_count": 14,
   "metadata": {},
   "outputs": [],
   "source": [
    "import re\n",
    "\n",
    "def standardize_class_names(professors):\n",
    "    for professor in professors:\n",
    "        class_map = {}\n",
    "\n",
    "        for review in professor['reviews']:\n",
    "            class_name = review['class']\n",
    "            match = re.search(r'(\\D+)(\\d+)([A-Z]?)', class_name)\n",
    "            if match:\n",
    "                prefix, number, suffix = match.groups()\n",
    "                full_class_name = f\"{prefix}{number}{suffix}\"\n",
    "                class_map[number] = full_class_name\n",
    "                if suffix:\n",
    "                    class_map[number + suffix] = full_class_name  \n",
    "                    \n",
    "        for review in professor['reviews']:\n",
    "            class_name = review['class']\n",
    "            if class_name.isdigit() or (class_name.isalnum() and class_name[-1].isalpha()):\n",
    "                review['class'] = class_map.get(class_name, class_map.get(class_name[:-1], class_name))\n",
    "            elif class_name in class_map:\n",
    "                review['class'] = class_map[class_name]\n",
    "    \n",
    "    return professors"
   ]
  },
  {
   "cell_type": "code",
   "execution_count": 15,
   "metadata": {},
   "outputs": [],
   "source": [
    "standardized_data = standardize_class_names(output['professors'])"
   ]
  },
  {
   "cell_type": "code",
   "execution_count": 16,
   "metadata": {},
   "outputs": [],
   "source": [
    "\n",
    "with open('professors.json', 'w') as jsonfile:\n",
    "    json.dump(standardized_data, jsonfile, indent=4)"
   ]
  }
 ],
 "metadata": {
  "kernelspec": {
   "display_name": "Python 3",
   "language": "python",
   "name": "python3"
  },
  "language_info": {
   "codemirror_mode": {
    "name": "ipython",
    "version": 3
   },
   "file_extension": ".py",
   "mimetype": "text/x-python",
   "name": "python",
   "nbconvert_exporter": "python",
   "pygments_lexer": "ipython3",
   "version": "3.12.4"
  }
 },
 "nbformat": 4,
 "nbformat_minor": 2
}
